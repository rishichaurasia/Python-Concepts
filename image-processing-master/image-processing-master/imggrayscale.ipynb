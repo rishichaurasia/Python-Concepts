{
 "cells": [
  {
   "cell_type": "code",
   "execution_count": 2,
   "metadata": {},
   "outputs": [
    {
     "name": "stdout",
     "output_type": "stream",
     "text": [
      "[[[27 25 25]\n",
      "  [27 25 24]\n",
      "  [26 25 21]\n",
      "  ...\n",
      "  [38 67 76]\n",
      "  [39 68 75]\n",
      "  [39 68 75]]\n",
      "\n",
      " [[27 25 24]\n",
      "  [27 25 24]\n",
      "  [26 25 21]\n",
      "  ...\n",
      "  [38 67 76]\n",
      "  [39 68 75]\n",
      "  [39 68 75]]\n",
      "\n",
      " [[27 26 22]\n",
      "  [27 26 22]\n",
      "  [27 27 21]\n",
      "  ...\n",
      "  [38 67 76]\n",
      "  [39 68 75]\n",
      "  [39 68 75]]\n",
      "\n",
      " ...\n",
      "\n",
      " [[21 18  3]\n",
      "  [21 18  3]\n",
      "  [21 18  3]\n",
      "  ...\n",
      "  [29 35 40]\n",
      "  [30 33 38]\n",
      "  [25 31 36]]\n",
      "\n",
      " [[21 18  3]\n",
      "  [21 18  3]\n",
      "  [21 18  3]\n",
      "  ...\n",
      "  [28 34 39]\n",
      "  [29 32 37]\n",
      "  [27 31 36]]\n",
      "\n",
      " [[21 18  3]\n",
      "  [21 18  3]\n",
      "  [21 18  3]\n",
      "  ...\n",
      "  [30 34 39]\n",
      "  [29 32 37]\n",
      "  [27 31 36]]]\n"
     ]
    }
   ],
   "source": [
    "import cv2\n",
    "#import numpy as np\n",
    "#import matplotlib.pyplot as plt\n",
    "img=  cv2.imread(\"image1.jpg\",1)#GRAYSCALE=0\n",
    "print(img)\n",
    "#cv2.imshow('image',img)\n",
    "#cv2.waitKey(0)\n",
    "#cv2.destroyAllWindows()\n",
    "#cv2.imwrite('grayscale.jpg', img)"
   ]
  },
  {
   "cell_type": "code",
   "execution_count": 7,
   "metadata": {},
   "outputs": [
    {
     "data": {
      "text/plain": [
       "0"
      ]
     },
     "execution_count": 7,
     "metadata": {},
     "output_type": "execute_result"
    }
   ],
   "source": []
  },
  {
   "cell_type": "code",
   "execution_count": null,
   "metadata": {},
   "outputs": [],
   "source": []
  }
 ],
 "metadata": {
  "kernelspec": {
   "display_name": "Python 3",
   "language": "python",
   "name": "python3"
  },
  "language_info": {
   "codemirror_mode": {
    "name": "ipython",
    "version": 3
   },
   "file_extension": ".py",
   "mimetype": "text/x-python",
   "name": "python",
   "nbconvert_exporter": "python",
   "pygments_lexer": "ipython3",
   "version": "3.7.4"
  }
 },
 "nbformat": 4,
 "nbformat_minor": 2
}
