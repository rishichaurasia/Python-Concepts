{
 "cells": [
  {
   "cell_type": "code",
   "execution_count": 1,
   "metadata": {},
   "outputs": [],
   "source": [
    "def swap(lis,index):\n",
    "    '''\n",
    "    Objective : To sort the given element in a list.\n",
    "    Input Values : List Type, Index number(integer)\n",
    "    Return Value : List with sorted element.\n",
    "    '''\n",
    "    '''\n",
    "    Approach : Swap the element using recursion.\n",
    "    '''\n",
    "    if lis[index]<lis[index-1] and index>0:\n",
    "        lis.insert(index-1,lis.pop(index))\n",
    "        swap(lis,index-1)\n",
    "    else:\n",
    "        return"
   ]
  },
  {
   "cell_type": "code",
   "execution_count": 2,
   "metadata": {},
   "outputs": [],
   "source": [
    "def insertion_sort(lis,index=1):\n",
    "    '''\n",
    "    Objective : To sort the elements of a given list.\n",
    "    Input Value : List to be sorted.\n",
    "    Return Value : Sorted list.\n",
    "    '''\n",
    "    '''\n",
    "    Approach : Sort the elements of the list using recursion.\n",
    "    '''\n",
    "    if index==len(lis) or len(lis)==0:\n",
    "        return\n",
    "    else:\n",
    "        swap(lis,index)\n",
    "        insertion_sort(lis,index+1)"
   ]
  },
  {
   "cell_type": "code",
   "execution_count": 3,
   "metadata": {},
   "outputs": [
    {
     "data": {
      "text/plain": [
       "[1, 3, 4, 4, 5, 8]"
      ]
     },
     "execution_count": 3,
     "metadata": {},
     "output_type": "execute_result"
    }
   ],
   "source": [
    "list1 = [4,3,5,1,8,4]\n",
    "insertion_sort(list1)\n",
    "list1"
   ]
  },
  {
   "cell_type": "code",
   "execution_count": null,
   "metadata": {},
   "outputs": [],
   "source": []
  }
 ],
 "metadata": {
  "kernelspec": {
   "display_name": "Python 3",
   "language": "python",
   "name": "python3"
  },
  "language_info": {
   "codemirror_mode": {
    "name": "ipython",
    "version": 3
   },
   "file_extension": ".py",
   "mimetype": "text/x-python",
   "name": "python",
   "nbconvert_exporter": "python",
   "pygments_lexer": "ipython3",
   "version": "3.7.3"
  }
 },
 "nbformat": 4,
 "nbformat_minor": 2
}
