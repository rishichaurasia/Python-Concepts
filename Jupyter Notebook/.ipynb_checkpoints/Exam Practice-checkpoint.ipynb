{
 "cells": [
  {
   "cell_type": "code",
   "execution_count": 1,
   "metadata": {},
   "outputs": [],
   "source": [
    "def invert(dictWord):\n",
    "    invDict = {}\n",
    "    for word in dictWord:\n",
    "        invDict[dictWord[word]] = word\n",
    "    return invDict"
   ]
  },
  {
   "cell_type": "code",
   "execution_count": 2,
   "metadata": {},
   "outputs": [
    {
     "data": {
      "text/plain": [
       "{'abcde': 'A', 'fghij': 'B', 'klmno': 'C'}"
      ]
     },
     "execution_count": 2,
     "metadata": {},
     "output_type": "execute_result"
    }
   ],
   "source": [
    "dictWord = {\"A\":\"abcde\", \"B\":\"fghij\", \"C\":\"klmno\"}\n",
    "invert(dictWord)"
   ]
  },
  {
   "cell_type": "code",
   "execution_count": 9,
   "metadata": {},
   "outputs": [],
   "source": [
    "def percentage(marks, total):\n",
    "    try:\n",
    "        percent = (marks/total) * 100\n",
    "    except ValueError:\n",
    "        print('ValueError')\n",
    "    except TypeError:\n",
    "        print('TypeError')\n",
    "    except ZeroDivisionError:\n",
    "        print('ZeroDivisionError')\n",
    "    except:\n",
    "        print('Any other Error')\n",
    "    else:\n",
    "        print(percent)\n",
    "    finally:\n",
    "        print('Function percentage completed')"
   ]
  },
  {
   "cell_type": "code",
   "execution_count": 12,
   "metadata": {},
   "outputs": [
    {
     "name": "stdout",
     "output_type": "stream",
     "text": [
      "TypeError\n",
      "Function percentage completed\n"
     ]
    }
   ],
   "source": [
    "percentage('150.0', '200.0')"
   ]
  },
  {
   "cell_type": "code",
   "execution_count": 16,
   "metadata": {},
   "outputs": [
    {
     "name": "stdout",
     "output_type": "stream",
     "text": [
      "Inside function test : a =  40\n",
      "Inside function test : b =  30\n",
      "Outside function test : a =  40\n"
     ]
    },
    {
     "ename": "NameError",
     "evalue": "name 'b' is not defined",
     "output_type": "error",
     "traceback": [
      "\u001b[0;31m---------------------------------------------------------------------------\u001b[0m",
      "\u001b[0;31mNameError\u001b[0m                                 Traceback (most recent call last)",
      "\u001b[0;32m<ipython-input-16-c84afbc48776>\u001b[0m in \u001b[0;36m<module>\u001b[0;34m\u001b[0m\n\u001b[1;32m      8\u001b[0m \u001b[0mtest\u001b[0m\u001b[0;34m(\u001b[0m\u001b[0;34m)\u001b[0m\u001b[0;34m\u001b[0m\u001b[0;34m\u001b[0m\u001b[0m\n\u001b[1;32m      9\u001b[0m \u001b[0mprint\u001b[0m\u001b[0;34m(\u001b[0m\u001b[0;34m'Outside function test : a = '\u001b[0m\u001b[0;34m,\u001b[0m \u001b[0ma\u001b[0m\u001b[0;34m)\u001b[0m\u001b[0;34m\u001b[0m\u001b[0;34m\u001b[0m\u001b[0m\n\u001b[0;32m---> 10\u001b[0;31m \u001b[0mprint\u001b[0m\u001b[0;34m(\u001b[0m\u001b[0;34m'Outside function test : b = '\u001b[0m\u001b[0;34m,\u001b[0m \u001b[0mb\u001b[0m\u001b[0;34m)\u001b[0m\u001b[0;34m\u001b[0m\u001b[0;34m\u001b[0m\u001b[0m\n\u001b[0m",
      "\u001b[0;31mNameError\u001b[0m: name 'b' is not defined"
     ]
    }
   ],
   "source": [
    "a = 20\n",
    "def test():\n",
    "    global a\n",
    "    b = 30\n",
    "    a = 40\n",
    "    print('Inside function test : a = ', a)\n",
    "    print('Inside function test : b = ', b)\n",
    "test()\n",
    "print('Outside function test : a = ', a)\n",
    "print('Outside function test : b = ', b)"
   ]
  },
  {
   "cell_type": "code",
   "execution_count": 297,
   "metadata": {},
   "outputs": [
    {
     "name": "stdout",
     "output_type": "stream",
     "text": [
      "1\n",
      "0\n"
     ]
    }
   ],
   "source": [
    "z=0\n",
    "def demo():\n",
    "    z = z+1\n",
    "demo()\n",
    "print(z)"
   ]
  },
  {
   "cell_type": "code",
   "execution_count": 298,
   "metadata": {},
   "outputs": [
    {
     "name": "stdout",
     "output_type": "stream",
     "text": [
      "inside function g, a =  10\n",
      "inside function h, a =  20\n",
      "inside function f, a =  20\n",
      "4\n"
     ]
    }
   ],
   "source": [
    "a = 4\n",
    "def f():\n",
    "    a=5\n",
    "    def g():\n",
    "        nonlocal a\n",
    "        a = 10\n",
    "        print('inside function g,', 'a = ', a)\n",
    "        def h():\n",
    "            nonlocal a\n",
    "            a = 20\n",
    "            print('inside function h,', 'a = ', a)\n",
    "        h()\n",
    "    g()\n",
    "    print('inside function f,', 'a = ', a)\n",
    "f()\n",
    "print(a)"
   ]
  },
  {
   "cell_type": "code",
   "execution_count": 26,
   "metadata": {},
   "outputs": [
    {
     "ename": "SyntaxError",
     "evalue": "unexpected EOF while parsing (<ipython-input-26-362b14338414>, line 3)",
     "output_type": "error",
     "traceback": [
      "\u001b[0;36m  File \u001b[0;32m\"<ipython-input-26-362b14338414>\"\u001b[0;36m, line \u001b[0;32m3\u001b[0m\n\u001b[0;31m    \u001b[0m\n\u001b[0m    ^\u001b[0m\n\u001b[0;31mSyntaxError\u001b[0m\u001b[0;31m:\u001b[0m unexpected EOF while parsing\n"
     ]
    }
   ],
   "source": [
    "def pattern(n):\n",
    "    for i in range(1,n+1):\n",
    "        "
   ]
  },
  {
   "cell_type": "code",
   "execution_count": 69,
   "metadata": {},
   "outputs": [],
   "source": [
    "def decode(s):\n",
    "    s1 = ''\n",
    "    alpha_str = \"abcdefghijklmnopqrstuvwxyz\"\n",
    "    alpha_list = list(alpha_str)\n",
    "    for i in s:\n",
    "        s1 += alpha_list[alpha_list.index(i)-3]\n",
    "    return s1"
   ]
  },
  {
   "cell_type": "code",
   "execution_count": 72,
   "metadata": {},
   "outputs": [
    {
     "data": {
      "text/plain": [
       "'uvw'"
      ]
     },
     "execution_count": 72,
     "metadata": {},
     "output_type": "execute_result"
    }
   ],
   "source": [
    "decode('xyz')"
   ]
  },
  {
   "cell_type": "code",
   "execution_count": 106,
   "metadata": {},
   "outputs": [
    {
     "name": "stdout",
     "output_type": "stream",
     "text": [
      "*  *  \n",
      "*  *  \n"
     ]
    }
   ],
   "source": [
    "def pattern1(n):\n",
    "    for i in range(1,n+1):\n",
    "        if i in range(2,n):\n",
    "            print('*'+ ' '*(3*n-4) + '*')\n",
    "        else:\n",
    "            print('*  '*n)\n",
    "pattern1(7)"
   ]
  },
  {
   "cell_type": "code",
   "execution_count": 126,
   "metadata": {},
   "outputs": [
    {
     "name": "stdout",
     "output_type": "stream",
     "text": [
      "*  *  *  *  *  *  *  *  *  *  *  *  *  \n",
      "   *                             *     \n",
      "      *                       *        \n",
      "         *                 *           \n",
      "            *           *              \n",
      "               *     *                 \n",
      "                  *                    \n"
     ]
    }
   ],
   "source": [
    "def pattern2(n):\n",
    "    for i in range(1, n+1):\n",
    "        s1 = ''\n",
    "        for j in range(-(n-1),n):\n",
    "            if i in range(2, n+1):\n",
    "                if abs(j) == abs(i-n):\n",
    "                    s1+='*  '\n",
    "                else:\n",
    "                    s1 += '   '\n",
    "            else:\n",
    "                s1 += '*  '\n",
    "        print(s1)\n",
    "            \n",
    "pattern2(7)"
   ]
  },
  {
   "cell_type": "code",
   "execution_count": 146,
   "metadata": {},
   "outputs": [],
   "source": [
    "def cumulative(lst, cumulativeLst = [], i=0):\n",
    "    if i < len(lst):\n",
    "        sum_i = sum(lst[0:i+1])\n",
    "        cumulativeLst.append(sum_i)\n",
    "        cumulative(lst, cumulativeLst, i+1)\n",
    "    return cumulativeLst"
   ]
  },
  {
   "cell_type": "code",
   "execution_count": 147,
   "metadata": {},
   "outputs": [
    {
     "data": {
      "text/plain": [
       "[1, 3, 6, 10, 15]"
      ]
     },
     "execution_count": 147,
     "metadata": {},
     "output_type": "execute_result"
    }
   ],
   "source": [
    "lst=[1,2,3,4,5]\n",
    "cumulative(lst)"
   ]
  },
  {
   "cell_type": "code",
   "execution_count": null,
   "metadata": {},
   "outputs": [],
   "source": [
    "def cumulative(lst, cumulativeLst)"
   ]
  },
  {
   "cell_type": "code",
   "execution_count": 183,
   "metadata": {},
   "outputs": [
    {
     "data": {
      "text/plain": [
       "53"
      ]
     },
     "execution_count": 183,
     "metadata": {},
     "output_type": "execute_result"
    }
   ],
   "source": [
    "f = open('research.txt','w')\n",
    "f.write(\"My name is python programming khan python programming\")"
   ]
  },
  {
   "cell_type": "code",
   "execution_count": 184,
   "metadata": {},
   "outputs": [],
   "source": [
    "f.close()"
   ]
  },
  {
   "cell_type": "code",
   "execution_count": 188,
   "metadata": {},
   "outputs": [],
   "source": [
    "def func(file_name):\n",
    "    f = open(file_name,'r')\n",
    "    line = f.readline()\n",
    "    lst = line.split()\n",
    "    word_count = len(lst)\n",
    "    word_start_cons = 0\n",
    "    for word in lst:\n",
    "        if word[0] not in ['a','e','i','o','u']:\n",
    "            word_start_cons += 1\n",
    "    phrase_count = line.count('python programming')\n",
    "    return (word_count, word_start_cons, phrase_count)"
   ]
  },
  {
   "cell_type": "code",
   "execution_count": 189,
   "metadata": {},
   "outputs": [
    {
     "data": {
      "text/plain": [
       "(8, 7, 2)"
      ]
     },
     "execution_count": 189,
     "metadata": {},
     "output_type": "execute_result"
    }
   ],
   "source": [
    "func('research.txt')"
   ]
  },
  {
   "cell_type": "code",
   "execution_count": 190,
   "metadata": {},
   "outputs": [
    {
     "ename": "SyntaxError",
     "evalue": "unexpected EOF while parsing (<ipython-input-190-40f9d4fb3d71>, line 2)",
     "output_type": "error",
     "traceback": [
      "\u001b[0;36m  File \u001b[0;32m\"<ipython-input-190-40f9d4fb3d71>\"\u001b[0;36m, line \u001b[0;32m2\u001b[0m\n\u001b[0;31m    \u001b[0m\n\u001b[0m    ^\u001b[0m\n\u001b[0;31mSyntaxError\u001b[0m\u001b[0;31m:\u001b[0m unexpected EOF while parsing\n"
     ]
    }
   ],
   "source": [
    "class Date(day, month, year):\n",
    "    "
   ]
  },
  {
   "cell_type": "code",
   "execution_count": 192,
   "metadata": {},
   "outputs": [
    {
     "name": "stdout",
     "output_type": "stream",
     "text": [
      "[20, 10]\n"
     ]
    }
   ],
   "source": [
    "def copyLst(lst):\n",
    "\n",
    "    if lst == []:\n",
    "\n",
    "        return []\n",
    "\n",
    "    else:\n",
    "\n",
    "        lst1 = copyLst(lst[1:]) + [lst[0]]\n",
    "\n",
    "        return lst1\n",
    "\n",
    " \n",
    "\n",
    "lst = [10, 20]\n",
    "\n",
    "lst1 = copyLst(lst)\n",
    "\n",
    "print(lst1)"
   ]
  },
  {
   "cell_type": "code",
   "execution_count": 194,
   "metadata": {},
   "outputs": [
    {
     "name": "stdout",
     "output_type": "stream",
     "text": [
      "[20, 10]\n"
     ]
    }
   ],
   "source": [
    "def copyLst(lst, lst1 = [], i = 0):\n",
    "\n",
    "    if lst == []:\n",
    "\n",
    "        return []\n",
    "\n",
    "    if i == len(lst):\n",
    "\n",
    "        return lst1\n",
    "\n",
    "    else:\n",
    "\n",
    "        lst1.append(lst[i])\n",
    "\n",
    "        lst1 = copyLst(lst[1:]) + [lst[0]]\n",
    "\n",
    "        return lst1\n",
    "\n",
    "lst = [10, 20]\n",
    "\n",
    "lst1 = copyLst(lst)\n",
    "\n",
    "print(lst1)"
   ]
  },
  {
   "cell_type": "code",
   "execution_count": 195,
   "metadata": {},
   "outputs": [
    {
     "ename": "IndexError",
     "evalue": "list index out of range",
     "output_type": "error",
     "traceback": [
      "\u001b[0;31m---------------------------------------------------------------------------\u001b[0m",
      "\u001b[0;31mIndexError\u001b[0m                                Traceback (most recent call last)",
      "\u001b[0;32m<ipython-input-195-7e6596046c6a>\u001b[0m in \u001b[0;36m<module>\u001b[0;34m\u001b[0m\n\u001b[1;32m     21\u001b[0m \u001b[0mlst\u001b[0m \u001b[0;34m=\u001b[0m \u001b[0;34m[\u001b[0m\u001b[0;36m10\u001b[0m\u001b[0;34m,\u001b[0m \u001b[0;36m20\u001b[0m\u001b[0;34m,\u001b[0m \u001b[0;36m30\u001b[0m\u001b[0;34m]\u001b[0m\u001b[0;34m\u001b[0m\u001b[0;34m\u001b[0m\u001b[0m\n\u001b[1;32m     22\u001b[0m \u001b[0;34m\u001b[0m\u001b[0m\n\u001b[0;32m---> 23\u001b[0;31m \u001b[0mlst1\u001b[0m \u001b[0;34m=\u001b[0m \u001b[0mcopyLst\u001b[0m\u001b[0;34m(\u001b[0m\u001b[0mlst\u001b[0m\u001b[0;34m)\u001b[0m\u001b[0;34m\u001b[0m\u001b[0;34m\u001b[0m\u001b[0m\n\u001b[0m\u001b[1;32m     24\u001b[0m \u001b[0;34m\u001b[0m\u001b[0m\n\u001b[1;32m     25\u001b[0m \u001b[0mprint\u001b[0m\u001b[0;34m(\u001b[0m\u001b[0mlst1\u001b[0m\u001b[0;34m)\u001b[0m\u001b[0;34m\u001b[0m\u001b[0;34m\u001b[0m\u001b[0m\n",
      "\u001b[0;32m<ipython-input-195-7e6596046c6a>\u001b[0m in \u001b[0;36mcopyLst\u001b[0;34m(lst, lst1, i)\u001b[0m\n\u001b[1;32m     11\u001b[0m             \u001b[0mlst1\u001b[0m\u001b[0;34m.\u001b[0m\u001b[0mappend\u001b[0m\u001b[0;34m(\u001b[0m\u001b[0mlst\u001b[0m\u001b[0;34m[\u001b[0m\u001b[0mi\u001b[0m\u001b[0;34m]\u001b[0m\u001b[0;34m)\u001b[0m\u001b[0;34m\u001b[0m\u001b[0;34m\u001b[0m\u001b[0m\n\u001b[1;32m     12\u001b[0m \u001b[0;34m\u001b[0m\u001b[0m\n\u001b[0;32m---> 13\u001b[0;31m             \u001b[0mcopyLst\u001b[0m\u001b[0;34m(\u001b[0m\u001b[0mlst\u001b[0m\u001b[0;34m[\u001b[0m\u001b[0;36m1\u001b[0m\u001b[0;34m:\u001b[0m\u001b[0;34m]\u001b[0m\u001b[0;34m,\u001b[0m \u001b[0mlst1\u001b[0m\u001b[0;34m,\u001b[0m \u001b[0mi\u001b[0m\u001b[0;34m+\u001b[0m\u001b[0;36m1\u001b[0m\u001b[0;34m)\u001b[0m\u001b[0;34m\u001b[0m\u001b[0;34m\u001b[0m\u001b[0m\n\u001b[0m\u001b[1;32m     14\u001b[0m \u001b[0;34m\u001b[0m\u001b[0m\n\u001b[1;32m     15\u001b[0m             \u001b[0;32mreturn\u001b[0m \u001b[0mlst1\u001b[0m\u001b[0;34m\u001b[0m\u001b[0;34m\u001b[0m\u001b[0m\n",
      "\u001b[0;32m<ipython-input-195-7e6596046c6a>\u001b[0m in \u001b[0;36mcopyLst\u001b[0;34m(lst, lst1, i)\u001b[0m\n\u001b[1;32m     11\u001b[0m             \u001b[0mlst1\u001b[0m\u001b[0;34m.\u001b[0m\u001b[0mappend\u001b[0m\u001b[0;34m(\u001b[0m\u001b[0mlst\u001b[0m\u001b[0;34m[\u001b[0m\u001b[0mi\u001b[0m\u001b[0;34m]\u001b[0m\u001b[0;34m)\u001b[0m\u001b[0;34m\u001b[0m\u001b[0;34m\u001b[0m\u001b[0m\n\u001b[1;32m     12\u001b[0m \u001b[0;34m\u001b[0m\u001b[0m\n\u001b[0;32m---> 13\u001b[0;31m             \u001b[0mcopyLst\u001b[0m\u001b[0;34m(\u001b[0m\u001b[0mlst\u001b[0m\u001b[0;34m[\u001b[0m\u001b[0;36m1\u001b[0m\u001b[0;34m:\u001b[0m\u001b[0;34m]\u001b[0m\u001b[0;34m,\u001b[0m \u001b[0mlst1\u001b[0m\u001b[0;34m,\u001b[0m \u001b[0mi\u001b[0m\u001b[0;34m+\u001b[0m\u001b[0;36m1\u001b[0m\u001b[0;34m)\u001b[0m\u001b[0;34m\u001b[0m\u001b[0;34m\u001b[0m\u001b[0m\n\u001b[0m\u001b[1;32m     14\u001b[0m \u001b[0;34m\u001b[0m\u001b[0m\n\u001b[1;32m     15\u001b[0m             \u001b[0;32mreturn\u001b[0m \u001b[0mlst1\u001b[0m\u001b[0;34m\u001b[0m\u001b[0;34m\u001b[0m\u001b[0m\n",
      "\u001b[0;32m<ipython-input-195-7e6596046c6a>\u001b[0m in \u001b[0;36mcopyLst\u001b[0;34m(lst, lst1, i)\u001b[0m\n\u001b[1;32m      9\u001b[0m         \u001b[0;32mif\u001b[0m \u001b[0mi\u001b[0m \u001b[0;34m!=\u001b[0m \u001b[0mlen\u001b[0m\u001b[0;34m(\u001b[0m\u001b[0mlst\u001b[0m\u001b[0;34m)\u001b[0m\u001b[0;34m:\u001b[0m\u001b[0;34m\u001b[0m\u001b[0;34m\u001b[0m\u001b[0m\n\u001b[1;32m     10\u001b[0m \u001b[0;34m\u001b[0m\u001b[0m\n\u001b[0;32m---> 11\u001b[0;31m             \u001b[0mlst1\u001b[0m\u001b[0;34m.\u001b[0m\u001b[0mappend\u001b[0m\u001b[0;34m(\u001b[0m\u001b[0mlst\u001b[0m\u001b[0;34m[\u001b[0m\u001b[0mi\u001b[0m\u001b[0;34m]\u001b[0m\u001b[0;34m)\u001b[0m\u001b[0;34m\u001b[0m\u001b[0;34m\u001b[0m\u001b[0m\n\u001b[0m\u001b[1;32m     12\u001b[0m \u001b[0;34m\u001b[0m\u001b[0m\n\u001b[1;32m     13\u001b[0m             \u001b[0mcopyLst\u001b[0m\u001b[0;34m(\u001b[0m\u001b[0mlst\u001b[0m\u001b[0;34m[\u001b[0m\u001b[0;36m1\u001b[0m\u001b[0;34m:\u001b[0m\u001b[0;34m]\u001b[0m\u001b[0;34m,\u001b[0m \u001b[0mlst1\u001b[0m\u001b[0;34m,\u001b[0m \u001b[0mi\u001b[0m\u001b[0;34m+\u001b[0m\u001b[0;36m1\u001b[0m\u001b[0;34m)\u001b[0m\u001b[0;34m\u001b[0m\u001b[0;34m\u001b[0m\u001b[0m\n",
      "\u001b[0;31mIndexError\u001b[0m: list index out of range"
     ]
    }
   ],
   "source": [
    "def copyLst(lst, lst1 = [], i = 0):\n",
    "\n",
    "    if len(lst) == 0:\n",
    "\n",
    "        return lst1\n",
    "\n",
    "    else:\n",
    "\n",
    "        if i != len(lst):\n",
    "\n",
    "            lst1.append(lst[i])\n",
    "\n",
    "            copyLst(lst[1:], lst1, i+1)\n",
    "\n",
    "            return lst1\n",
    "\n",
    "        else:\n",
    "\n",
    "            return lst1\n",
    "\n",
    "lst = [10, 20, 30]\n",
    "\n",
    "lst1 = copyLst(lst)\n",
    "\n",
    "print(lst1)"
   ]
  },
  {
   "cell_type": "code",
   "execution_count": 222,
   "metadata": {},
   "outputs": [],
   "source": [
    "import sys\n",
    "class Date:\n",
    "    def __init__(self, day, month, year):\n",
    "        if not((type(day) == int) and (type(month) == int) and \\\n",
    "           type(year) == int):\n",
    "            print('Enter correct date type')\n",
    "            sys.exit()\n",
    "        if month>0 and month<=12:\n",
    "            self.month = month\n",
    "        else: \n",
    "            print('Invalid value for month')\n",
    "            sys.exit()\n",
    "        if year>=1900:\n",
    "            self.year = year\n",
    "        else:\n",
    "            print('Invalid value for year')\n",
    "            sys.exit()\n",
    "        self.day = self.checkday(day)\n",
    "    def checkday(self, day):\n",
    "        currentyear = self.current_year()\n",
    "        if day>0 and day<=currentyear[self.month-1] :\n",
    "            return day\n",
    "        else:\n",
    "            print('Invalid date value')\n",
    "            sys.exit()\n",
    "    def __str__(self):\n",
    "        if self.day<10:\n",
    "            day = '0' + str(self.day)\n",
    "        else:\n",
    "            day = str(self.day)\n",
    "        if self.month<10:\n",
    "            month = '0' + str(self.month)\n",
    "        else:\n",
    "            month = str(self.month)\n",
    "        date = day + '-' + month + '-' + str(self.year)\n",
    "        return date\n",
    "    def current_year(self):\n",
    "        if self.year%400==0 or (self.year%100!=0 and self.year%4==0):\n",
    "            currentyear = [31,29,31,30,31,30,31,31,30,31,30,31]\n",
    "        else:\n",
    "            currentyear = [31,28,31,30,31,30,31,31,30,31,30,31]\n",
    "        return currentyear\n",
    "    def next_date(self):\n",
    "        currentyear = self.current_year()\n",
    "        if self.day == currentyear[self.month-1]:\n",
    "            day = 1\n",
    "            if self.month == 12:\n",
    "                month = 1\n",
    "                year = self.year+1\n",
    "            else:\n",
    "                month = self.month+1\n",
    "                year = self.year\n",
    "        else:\n",
    "            day = self.day+1\n",
    "            month = self.month\n",
    "            year = self.year\n",
    "        return str(day) + '-' + str(month) + '-' + str(year)\n"
   ]
  },
  {
   "cell_type": "code",
   "execution_count": 226,
   "metadata": {},
   "outputs": [],
   "source": [
    "d1 = Date(31,12,1992)"
   ]
  },
  {
   "cell_type": "code",
   "execution_count": 227,
   "metadata": {},
   "outputs": [
    {
     "name": "stdout",
     "output_type": "stream",
     "text": [
      "31-12-1992\n"
     ]
    }
   ],
   "source": [
    "print(d1)"
   ]
  },
  {
   "cell_type": "code",
   "execution_count": 228,
   "metadata": {},
   "outputs": [
    {
     "data": {
      "text/plain": [
       "'1-1-1993'"
      ]
     },
     "execution_count": 228,
     "metadata": {},
     "output_type": "execute_result"
    }
   ],
   "source": [
    "d1.next_date()"
   ]
  },
  {
   "cell_type": "code",
   "execution_count": 240,
   "metadata": {},
   "outputs": [],
   "source": [
    "def bubblestep(lst, k,m = -2):\n",
    "    if m == -2:\n",
    "        m = len(lst)-1\n",
    "    if m == k:\n",
    "        return lst\n",
    "    if lst[m]<lst[m-1]:\n",
    "        lst[m], lst[m-1] = lst[m-1], lst[m]\n",
    "        return bubblestep(lst, k, m-1)\n",
    "    else:\n",
    "        return bubblestep(lst, k, m-1)"
   ]
  },
  {
   "cell_type": "code",
   "execution_count": 245,
   "metadata": {},
   "outputs": [],
   "source": [
    "def bubblesort(lst, i=0):\n",
    "    if i == len(lst):\n",
    "        return lst\n",
    "    else:\n",
    "        lst = bubblestep(lst, i)\n",
    "        return bubblesort(lst, i+1)"
   ]
  },
  {
   "cell_type": "code",
   "execution_count": 246,
   "metadata": {},
   "outputs": [
    {
     "data": {
      "text/plain": [
       "[5, 8, 12, 13, 17, 18, 30, 35, 36, 40]"
      ]
     },
     "execution_count": 246,
     "metadata": {},
     "output_type": "execute_result"
    }
   ],
   "source": [
    "lst = [36,17,40,8,18,5,35,12,17,30,13]\n",
    "bubblesort(lst)"
   ]
  },
  {
   "cell_type": "code",
   "execution_count": 260,
   "metadata": {},
   "outputs": [
    {
     "data": {
      "text/plain": [
       "{'a': [1, 2], 'c': [5, 6]}"
      ]
     },
     "execution_count": 260,
     "metadata": {},
     "output_type": "execute_result"
    }
   ],
   "source": [
    "dict1 = {'a':[1,2],'b':[3],'c':[5,6]} \n",
    "{key:value for key,value in dict1.items() if len(value)>1}"
   ]
  },
  {
   "cell_type": "code",
   "execution_count": 267,
   "metadata": {},
   "outputs": [],
   "source": [
    "def rem(lst1,lst2=[],n=0):\n",
    "    if n==len(lst1):\n",
    "        return lst2\n",
    "    else:\n",
    "        if lst1[n] not in lst2:\n",
    "            lst2.append(lst1[n])\n",
    "        return rem(lst1,lst2,n+1)"
   ]
  },
  {
   "cell_type": "code",
   "execution_count": 266,
   "metadata": {},
   "outputs": [
    {
     "data": {
      "text/plain": [
       "[1, 2, 4, 4, 5, 7, 7, 7, 8, 8, 9, 7, 7, 7, 7]"
      ]
     },
     "execution_count": 266,
     "metadata": {},
     "output_type": "execute_result"
    }
   ],
   "source": [
    "lst = [1,2,4,4,5,7,7,7,8,8,9,7]"
   ]
  },
  {
   "cell_type": "code",
   "execution_count": 293,
   "metadata": {},
   "outputs": [
    {
     "name": "stdout",
     "output_type": "stream",
     "text": [
      "[2]\n"
     ]
    }
   ],
   "source": [
    "def dup(a, i = 0, flag = False):\n",
    "    if(i >= len(a)-1):\n",
    "        if flag == True and len(a)==1:\n",
    "            a = []\n",
    "            return a\n",
    "        else:\n",
    "            return a\n",
    "        \n",
    "    elif(a[i] == a[i+1]):\n",
    "        a.pop(i)\n",
    "        i -= 1\n",
    "        flag = True\n",
    "    elif(flag):\n",
    "        a.pop(i)\n",
    "        i -= 1\n",
    "        flag = False\n",
    "    return dup(a, i+1, flag)\n",
    "\n",
    "a = [7, 7, 7,2]\n",
    "print(dup(a))"
   ]
  },
  {
   "cell_type": "code",
   "execution_count": null,
   "metadata": {},
   "outputs": [],
   "source": [
    "def rem(a, value):\n",
    "    if a[i]==a[i+1]:\n",
    "        "
   ]
  },
  {
   "cell_type": "code",
   "execution_count": 318,
   "metadata": {},
   "outputs": [],
   "source": [
    "def least_element(lis, i, min_i):\n",
    "    if i==len(lis):\n",
    "        return min_i\n",
    "    if lis[i]<=lis[min_i]:\n",
    "        return least_element(lis, i+1, i)\n",
    "    else:\n",
    "        return least_element(lis, i+1, min_i)\n",
    "        "
   ]
  },
  {
   "cell_type": "code",
   "execution_count": 319,
   "metadata": {},
   "outputs": [],
   "source": [
    "def selectionsort(lis, i = 0):\n",
    "    if i < len(lis)-1:\n",
    "        li = least_element(lis, i, i)\n",
    "        lis[i], lis[li] = lis[li], lis[i]\n",
    "        selectionsort(lis, i+1)"
   ]
  },
  {
   "cell_type": "code",
   "execution_count": 320,
   "metadata": {},
   "outputs": [
    {
     "data": {
      "text/plain": [
       "[0, 1, 2, 3, 4, 5, 6, 7, 9, 17]"
      ]
     },
     "execution_count": 320,
     "metadata": {},
     "output_type": "execute_result"
    }
   ],
   "source": [
    "lis = [1,2,3,6,7,5,4,0,17,9]\n",
    "selectionsort(lis)\n",
    "lis"
   ]
  },
  {
   "cell_type": "code",
   "execution_count": 321,
   "metadata": {},
   "outputs": [],
   "source": [
    "def swap(lis, index):\n",
    "    if lis[index]<lis[index-1] and index>0:\n",
    "        lis[index], lis[index-1] = lis[index-1], lis[index]\n",
    "        swap(lis, index-1)\n",
    "    return"
   ]
  },
  {
   "cell_type": "code",
   "execution_count": 322,
   "metadata": {},
   "outputs": [],
   "source": [
    "def insertionsort(lis, i = 1):\n",
    "    if i<len(lis):\n",
    "        swap(lis, i)\n",
    "        insertionsort(lis, i+1)\n",
    "    return"
   ]
  },
  {
   "cell_type": "code",
   "execution_count": 324,
   "metadata": {},
   "outputs": [
    {
     "data": {
      "text/plain": [
       "[0, 1, 2, 3, 4, 5, 6, 7, 9, 17]"
      ]
     },
     "execution_count": 324,
     "metadata": {},
     "output_type": "execute_result"
    }
   ],
   "source": [
    "lis = [1,2,3,6,7,5,4,0,17,9]\n",
    "insertionsort(lis)\n",
    "lis"
   ]
  },
  {
   "cell_type": "code",
   "execution_count": 325,
   "metadata": {},
   "outputs": [],
   "source": [
    "def cumul(lis, i=1):\n",
    "    if i<len(lis):\n",
    "        lis[i]+=lis[i-1]\n",
    "        cumul(lis,i+1)\n",
    "    return \n",
    "lis = [1,2,3,4]"
   ]
  },
  {
   "cell_type": "raw",
   "metadata": {},
   "source": [
    "cumul(lis)\n",
    "lis"
   ]
  },
  {
   "cell_type": "code",
   "execution_count": null,
   "metadata": {},
   "outputs": [],
   "source": [
    "\n"
   ]
  }
 ],
 "metadata": {
  "kernelspec": {
   "display_name": "Python 3",
   "language": "python",
   "name": "python3"
  },
  "language_info": {
   "codemirror_mode": {
    "name": "ipython",
    "version": 3
   },
   "file_extension": ".py",
   "mimetype": "text/x-python",
   "name": "python",
   "nbconvert_exporter": "python",
   "pygments_lexer": "ipython3",
   "version": "3.7.4"
  }
 },
 "nbformat": 4,
 "nbformat_minor": 2
}
