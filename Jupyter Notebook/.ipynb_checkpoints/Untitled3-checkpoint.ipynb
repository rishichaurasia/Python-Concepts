{
 "cells": [
  {
   "cell_type": "code",
   "execution_count": 9,
   "metadata": {},
   "outputs": [],
   "source": [
    "def copy_list(lis, new_list = [], i=0):\n",
    "    '''\n",
    "    Objective: To copy a given list.\n",
    "    Input value: lis - list to be copied.\n",
    "                 new_list - list where to be copied.\n",
    "                 i - index\n",
    "    Return value: Copied list\n",
    "    '''\n",
    "    '''\n",
    "    Approach: To copy a list using recursion.\n",
    "    '''\n",
    "    if len(lis) == len(new_list):\n",
    "        return new_list\n",
    "    else:\n",
    "        new_list.append(lis[i])\n",
    "        return copy_list(lis, new_list, i+1)"
   ]
  },
  {
   "cell_type": "code",
   "execution_count": 10,
   "metadata": {},
   "outputs": [
    {
     "data": {
      "text/plain": [
       "[]"
      ]
     },
     "execution_count": 10,
     "metadata": {},
     "output_type": "execute_result"
    }
   ],
   "source": [
    "copy_list([])"
   ]
  },
  {
   "cell_type": "code",
   "execution_count": 13,
   "metadata": {},
   "outputs": [],
   "source": [
    "def rem_ele(lis, value):\n",
    "    '''\n",
    "    Objective: To remove all occurences of a value from a given list.\n",
    "    Input value: lis - Given list\n",
    "                 value - value to be removed\n",
    "                 i - recursion count\n",
    "    Return value: Augmented list.\n",
    "    '''\n",
    "    '''\n",
    "    Approach: To remove the element from the list using recursion.\n",
    "    '''\n",
    "    if value in lis:\n",
    "        lis.remove(value)\n",
    "        rem_ele(lis, value)\n",
    "    else:\n",
    "        return"
   ]
  },
  {
   "cell_type": "code",
   "execution_count": 15,
   "metadata": {},
   "outputs": [
    {
     "data": {
      "text/plain": [
       "[]"
      ]
     },
     "execution_count": 15,
     "metadata": {},
     "output_type": "execute_result"
    }
   ],
   "source": [
    "lst = [10,30,20,40,40,50,10,20,20,60]\n",
    "rem_ele(lst, 20)\n",
    "lst"
   ]
  },
  {
   "cell_type": "code",
   "execution_count": null,
   "metadata": {},
   "outputs": [],
   "source": []
  }
 ],
 "metadata": {
  "kernelspec": {
   "display_name": "Python 3",
   "language": "python",
   "name": "python3"
  },
  "language_info": {
   "codemirror_mode": {
    "name": "ipython",
    "version": 3
   },
   "file_extension": ".py",
   "mimetype": "text/x-python",
   "name": "python",
   "nbconvert_exporter": "python",
   "pygments_lexer": "ipython3",
   "version": "3.7.4"
  }
 },
 "nbformat": 4,
 "nbformat_minor": 2
}
