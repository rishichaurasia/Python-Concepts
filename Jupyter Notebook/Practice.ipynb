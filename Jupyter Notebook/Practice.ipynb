{
 "cells": [
  {
   "cell_type": "code",
   "execution_count": null,
   "metadata": {},
   "outputs": [],
   "source": [
    "def blackjack(a,b,c):\n",
    "    num_sum = sum([a,b,c])\n",
    "    if num_sum <=21:\n",
    "        return num_sum\n",
    "    elif 11 in [a,b,c]:\n",
    "        if num_sum-10 <=21:\n",
    "            return num_sum-10\n",
    "        else:\n",
    "            return 'BUST'\n",
    "    else:\n",
    "        return 'BUST'\n",
    "blackjack(9,9,11)"
   ]
  },
  {
   "cell_type": "code",
   "execution_count": null,
   "metadata": {},
   "outputs": [],
   "source": [
    "def summer_69(arr):\n",
    "    total = 0\n",
    "    add = True\n",
    "    for x in arr:\n",
    "        while add:\n",
    "            if x != 6:\n",
    "                total += x\n",
    "                break\n",
    "            else:\n",
    "                add = False\n",
    "        while not add:\n",
    "            if x != 9:\n",
    "                break\n",
    "            else:    \n",
    "                add = True\n",
    "    return total\n",
    "\n",
    "summer_69([2,1,6,11])\n"
   ]
  },
  {
   "cell_type": "code",
   "execution_count": null,
   "metadata": {},
   "outputs": [],
   "source": [
    "def spy_game(nums):\n",
    "    mylist = [num for num in nums if num in [0,7]]\n",
    "    for x in range(0,len(mylist)-1):\n",
    "        if mylist[x:x+3] == [0,0,7]:\n",
    "            return True\n",
    "            break\n",
    "    else:\n",
    "        return False\n",
    "spy_game([1,3,5,6,4,5,8,4])"
   ]
  },
  {
   "cell_type": "code",
   "execution_count": null,
   "metadata": {},
   "outputs": [],
   "source": [
    "def num_primes(num):\n",
    "    if num < 2:\n",
    "        return 0\n",
    "    primes = [2]\n",
    "    x = 3\n",
    "    count = 1\n",
    "    while x <= num:\n",
    "        for y in primes:\n",
    "            if x%y == 0:\n",
    "                x+=2\n",
    "                break\n",
    "        else:\n",
    "            primes.append(x)\n",
    "            count+=1\n",
    "            x+=2\n",
    "    print(primes)\n",
    "    return count\n",
    "\n",
    "num_primes(100)"
   ]
  },
  {
   "cell_type": "code",
   "execution_count": null,
   "metadata": {},
   "outputs": [],
   "source": [
    "def print_graphic(letter):\n",
    "    patterns = {1:'  *  ', 2:' * * ', 3:'*****', 4:'*   *', 5:'****', 6:'*    '}\n",
    "    alphabets = {'A':[1,2,3,4,4], 'B':[5,4,5,4,5], 'C':[3,6,6,6,3]}\n",
    "    for pattern in alphabets[letter.upper()]:\n",
    "        print(patterns[pattern])\n",
    "        \n",
    "print_graphic('a')"
   ]
  },
  {
   "cell_type": "markdown",
   "metadata": {},
   "source": [
    "import math\n",
    "a = 4\n",
    "math.sqrt(4)"
   ]
  },
  {
   "cell_type": "markdown",
   "metadata": {},
   "source": [
    "list(map(math.sqrt,[4,9]))"
   ]
  },
  {
   "cell_type": "code",
   "execution_count": null,
   "metadata": {},
   "outputs": [],
   "source": [
    "map(math.sqrt,[4,9])"
   ]
  },
  {
   "cell_type": "code",
   "execution_count": null,
   "metadata": {},
   "outputs": [],
   "source": [
    "num = [2,3,4]\n",
    "map()"
   ]
  },
  {
   "cell_type": "code",
   "execution_count": null,
   "metadata": {},
   "outputs": [],
   "source": [
    "a=5\n",
    "print(f'Hello {a}')"
   ]
  },
  {
   "cell_type": "code",
   "execution_count": null,
   "metadata": {},
   "outputs": [],
   "source": [
    "Given an array of Strings, Find the number of times the word \"Politics\", \"Society\" and \"country\" is repeated."
   ]
  },
  {
   "cell_type": "code",
   "execution_count": null,
   "metadata": {},
   "outputs": [],
   "source": [
    "input1 = '''Politics is a set of activities associated with the governance of a country or an area. It involves making decisions that apply to members of a group. It refers to achieving and exercising positions of governance—organized control over a human community, particularly a state. The academic study focusing on just politics, which is therefore more targeted than general political science, is sometimes referred to as politology (not to be confused with politicology, a synonym for political science). In modern nation-states, people often form political parties to represent their ideas. Members of a party agree to take the same position on many issues and agree to support the same changes to law and the same leaders. An election is usually a competition between different parties. Some examples of political parties worldwide are: the African National Congress (ANC) in South Africa, the Democratic Party (D) in the United States, the Conservative Party in the United Kingdom, the Christian Democratic Union (CDU) in Germany and the Bhartiya Janata Party in India.Politics is a multifaceted word. It has a set of fairly specific meanings that are descriptive and nonjudgmental (such as the art or science of government and political principles), but does often colloquially carry a negative connotation. The word has been used negatively for many years: the British national anthem as published in 1745 calls on God to Confound their politics, and the phrase play politics, for example, has been in use since at least 1853, when abolitionist Wendell Phillips declared: We do not play politics; anti-slavery is no half-jest with us. A variety of methods are deployed in politics, which include promoting ones own political views among people, negotiation with other political subjects, making laws, and exercising force, including warfare against adversaries. Politics is exercised on a wide range of social levels, from clans and tribes of traditional societies, through modern local governments, companies and institutions up to sovereign states, to the international level. A political system is a framework which defines acceptable political methods within a given society. The history of political thought can be traced back to early antiquity, with seminal works such as Plato's Republic, Aristotle's Politics and the works of Confucius.'''\n",
    "\n",
    "def word_count(word):\n",
    "    return input1.lower().count(word)\n",
    "\n",
    "word = input('Input the word to get the word count: ').lower()\n",
    "word_count(word)"
   ]
  },
  {
   "cell_type": "code",
   "execution_count": 20,
   "metadata": {},
   "outputs": [
    {
     "ename": "ValueError",
     "evalue": "unsupported format character 'b' (0x62) at index 2",
     "output_type": "error",
     "traceback": [
      "\u001b[0;31m---------------------------------------------------------------------------\u001b[0m",
      "\u001b[0;31mValueError\u001b[0m                                Traceback (most recent call last)",
      "\u001b[0;32m<ipython-input-20-d10f37657838>\u001b[0m in \u001b[0;36m<module>\u001b[0;34m\u001b[0m\n\u001b[1;32m      1\u001b[0m \u001b[0mnum\u001b[0m \u001b[0;34m=\u001b[0m \u001b[0;36m10\u001b[0m\u001b[0;34m\u001b[0m\u001b[0;34m\u001b[0m\u001b[0m\n\u001b[0;32m----> 2\u001b[0;31m \u001b[0mprint\u001b[0m\u001b[0;34m(\u001b[0m\u001b[0;34m\" %b %d is in the range\"\u001b[0m \u001b[0;34m%\u001b[0m\u001b[0;34m(\u001b[0m\u001b[0mnum\u001b[0m\u001b[0;34m,\u001b[0m\u001b[0mnum\u001b[0m\u001b[0;34m)\u001b[0m\u001b[0;34m)\u001b[0m\u001b[0;34m\u001b[0m\u001b[0;34m\u001b[0m\u001b[0m\n\u001b[0m",
      "\u001b[0;31mValueError\u001b[0m: unsupported format character 'b' (0x62) at index 2"
     ]
    }
   ],
   "source": [
    "num = 10\n",
    "print(\" %b %d is in the range\" %(num,num))"
   ]
  },
  {
   "cell_type": "code",
   "execution_count": 1,
   "metadata": {},
   "outputs": [
    {
     "ename": "SyntaxError",
     "evalue": "Missing parentheses in call to 'print'. Did you mean print(\"hello\")? (<ipython-input-1-2a0eaa89f43f>, line 1)",
     "output_type": "error",
     "traceback": [
      "\u001b[0;36m  File \u001b[0;32m\"<ipython-input-1-2a0eaa89f43f>\"\u001b[0;36m, line \u001b[0;32m1\u001b[0m\n\u001b[0;31m    print \"hello\"\u001b[0m\n\u001b[0m                ^\u001b[0m\n\u001b[0;31mSyntaxError\u001b[0m\u001b[0;31m:\u001b[0m Missing parentheses in call to 'print'. Did you mean print(\"hello\")?\n"
     ]
    }
   ],
   "source": [
    "print \"hello\""
   ]
  },
  {
   "cell_type": "code",
   "execution_count": 22,
   "metadata": {},
   "outputs": [
    {
     "data": {
      "text/plain": [
       "{1, 2, 3}"
      ]
     },
     "execution_count": 22,
     "metadata": {},
     "output_type": "execute_result"
    }
   ],
   "source": [
    "a = [1,1,1,2,2,2,3,3,3]\n",
    "set(a)"
   ]
  },
  {
   "cell_type": "code",
   "execution_count": 23,
   "metadata": {},
   "outputs": [],
   "source": [
    "import string"
   ]
  },
  {
   "cell_type": "code",
   "execution_count": 25,
   "metadata": {},
   "outputs": [],
   "source": [
    "alpha = string.ascii_lowercase"
   ]
  },
  {
   "cell_type": "code",
   "execution_count": 26,
   "metadata": {},
   "outputs": [
    {
     "data": {
      "text/plain": [
       "'abcdefghijklmnopqrstuvwxyz'"
      ]
     },
     "execution_count": 26,
     "metadata": {},
     "output_type": "execute_result"
    }
   ],
   "source": [
    "alpha"
   ]
  },
  {
   "cell_type": "code",
   "execution_count": 28,
   "metadata": {},
   "outputs": [
    {
     "data": {
      "text/plain": [
       "{'a',\n",
       " 'b',\n",
       " 'c',\n",
       " 'd',\n",
       " 'e',\n",
       " 'f',\n",
       " 'g',\n",
       " 'h',\n",
       " 'i',\n",
       " 'j',\n",
       " 'k',\n",
       " 'l',\n",
       " 'm',\n",
       " 'n',\n",
       " 'o',\n",
       " 'p',\n",
       " 'q',\n",
       " 'r',\n",
       " 's',\n",
       " 't',\n",
       " 'u',\n",
       " 'v',\n",
       " 'w',\n",
       " 'x',\n",
       " 'y',\n",
       " 'z'}"
      ]
     },
     "execution_count": 28,
     "metadata": {},
     "output_type": "execute_result"
    }
   ],
   "source": [
    "set(alpha)"
   ]
  },
  {
   "cell_type": "code",
   "execution_count": 2,
   "metadata": {},
   "outputs": [
    {
     "name": "stdout",
     "output_type": "stream",
     "text": [
      "hello\n"
     ]
    }
   ],
   "source": [
    "print (\"hello\")"
   ]
  },
  {
   "cell_type": "code",
   "execution_count": 9,
   "metadata": {},
   "outputs": [
    {
     "data": {
      "text/plain": [
       "False"
      ]
     },
     "execution_count": 9,
     "metadata": {},
     "output_type": "execute_result"
    }
   ],
   "source": [
    "(2==2) and\\\n",
    "3==4"
   ]
  },
  {
   "cell_type": "code",
   "execution_count": null,
   "metadata": {},
   "outputs": [],
   "source": []
  }
 ],
 "metadata": {
  "kernelspec": {
   "display_name": "Python 3",
   "language": "python",
   "name": "python3"
  },
  "language_info": {
   "codemirror_mode": {
    "name": "ipython",
    "version": 3
   },
   "file_extension": ".py",
   "mimetype": "text/x-python",
   "name": "python",
   "nbconvert_exporter": "python",
   "pygments_lexer": "ipython3",
   "version": "3.7.3"
  }
 },
 "nbformat": 4,
 "nbformat_minor": 2
}
