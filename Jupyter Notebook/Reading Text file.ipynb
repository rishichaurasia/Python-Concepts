{
 "cells": [
  {
   "cell_type": "code",
   "execution_count": 12,
   "metadata": {},
   "outputs": [],
   "source": [
    "def num_square1(f):\n",
    "    if f.mode == 'r':\n",
    "        contents = f.readlines()\n",
    "    new_file = open('Square_Numbers1.txt','w+')\n",
    "    for i in contents:\n",
    "        new_file.write(f'{int(i)**2}\\r')\n",
    "    new_file.close()"
   ]
  },
  {
   "cell_type": "code",
   "execution_count": 13,
   "metadata": {},
   "outputs": [],
   "source": [
    "f = open('Numbers1.txt','r')\n",
    "num_square1(f)\n",
    "f.close()"
   ]
  },
  {
   "cell_type": "code",
   "execution_count": 21,
   "metadata": {},
   "outputs": [],
   "source": [
    "def num_square2(f):\n",
    "    if f.mode == 'r':\n",
    "        contents = f.readline()\n",
    "    new_file = open('Square_Numbers2.txt','w+')\n",
    "    for i in contents.split(' '):\n",
    "        new_file.write(f'{int(i)**2} ')\n",
    "    new_file.close()"
   ]
  },
  {
   "cell_type": "code",
   "execution_count": 22,
   "metadata": {},
   "outputs": [],
   "source": [
    "f = open('Numbers2.txt','r')\n",
    "num_square2(f)\n",
    "f.close()"
   ]
  },
  {
   "cell_type": "code",
   "execution_count": null,
   "metadata": {},
   "outputs": [],
   "source": []
  },
  {
   "cell_type": "code",
   "execution_count": null,
   "metadata": {},
   "outputs": [],
   "source": []
  }
 ],
 "metadata": {
  "kernelspec": {
   "display_name": "Python 3",
   "language": "python",
   "name": "python3"
  },
  "language_info": {
   "codemirror_mode": {
    "name": "ipython",
    "version": 3
   },
   "file_extension": ".py",
   "mimetype": "text/x-python",
   "name": "python",
   "nbconvert_exporter": "python",
   "pygments_lexer": "ipython3",
   "version": "3.7.3"
  }
 },
 "nbformat": 4,
 "nbformat_minor": 2
}
