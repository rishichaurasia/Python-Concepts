{
 "cells": [
  {
   "cell_type": "code",
   "execution_count": 14,
   "metadata": {},
   "outputs": [
    {
     "name": "stdout",
     "output_type": "stream",
     "text": [
      "2,Aditya Ranjan,8\n",
      "\n",
      "6,Ankit Jaiswal,12\n",
      "\n",
      "18,Hemant Kumar,16\n",
      "\n",
      "32,Rishi Chaurasia,18\n",
      "\n"
     ]
    }
   ],
   "source": [
    "f = open('marks.txt', 'r')\n",
    "data = f.readline()\n",
    "while data:\n",
    "    print(data)\n",
    "    data = f.readline()\n",
    "f.close()\n",
    "class student:\n",
    "    g"
   ]
  },
  {
   "cell_type": "code",
   "execution_count": null,
   "metadata": {},
   "outputs": [],
   "source": []
  }
 ],
 "metadata": {
  "kernelspec": {
   "display_name": "Python 3",
   "language": "python",
   "name": "python3"
  },
  "language_info": {
   "codemirror_mode": {
    "name": "ipython",
    "version": 3
   },
   "file_extension": ".py",
   "mimetype": "text/x-python",
   "name": "python",
   "nbconvert_exporter": "python",
   "pygments_lexer": "ipython3",
   "version": "3.7.4"
  }
 },
 "nbformat": 4,
 "nbformat_minor": 2
}
