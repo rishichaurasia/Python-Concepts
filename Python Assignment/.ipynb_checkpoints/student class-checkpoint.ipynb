{
 "cells": [
  {
   "cell_type": "code",
   "execution_count": 3,
   "metadata": {},
   "outputs": [
    {
     "name": "stdout",
     "output_type": "stream",
     "text": [
      "[1, 'Anubhav', 100]\n",
      "[2, 'Aditya', 90]\n",
      "[3, 'rishi', 101]\n"
     ]
    }
   ],
   "source": [
    "import pickle\n",
    "\n",
    "class Student:\n",
    "    def __init__(self, rollno, name, marks):\n",
    "        '''\n",
    "        Objective: To initialize data in the class\n",
    "        Input Parameters:\n",
    "                    self: Object of type person\n",
    "                    rollno: integer, Roll No. of the student\n",
    "                    name: String, Name of the student\n",
    "                    marks: integer, Marks of the student\n",
    "        Return Values: None\n",
    "        '''\n",
    "        self.rollno = rollno\n",
    "        self.name = name\n",
    "        self.marks = marks\n",
    "        \n",
    "    def loadFile(mode):\n",
    "        file = open(r\"C:\\Users\\sethi\\Desktop\\stud.txt\", mode)\n",
    "        return file\n",
    "    \n",
    "    def writeFile(self, file):\n",
    "        '''\n",
    "        Objective: To write student's data to the file\n",
    "        Input Parameters: self: implicit parameter\n",
    "        Return Values: None\n",
    "        '''\n",
    "        pickle.dump([self.rollno, self.name, self.marks], file)\n",
    "        \n",
    "    def readFile():\n",
    "        '''\n",
    "        Objective: To read student's data from the file\n",
    "        Input Parameters: self: implicit parameter\n",
    "        Return Values: None\n",
    "        '''\n",
    "        file = open(r\"C:\\Users\\sethi\\Desktop\\stud.txt\", 'rb')\n",
    "        read = pickle.load(file)\n",
    "        while(read != None):\n",
    "            try:\n",
    "                print((read))\n",
    "                read = pickle.load(file)\n",
    "            except:\n",
    "                break\n",
    "        file.close()\n",
    "        \n",
    "    def updateMarks(num):\n",
    "        file = open(r\"C:\\Users\\sethi\\Desktop\\stud.txt\", 'rb')\n",
    "        read = pickle.load(file)\n",
    "        new=open(r\"C:\\Users\\sethi\\Desktop\\student.txt\", 'wb')\n",
    "        while(read):\n",
    "            try:\n",
    "                read[2]+=num\n",
    "                pickle.dump(read,new)\n",
    "                read = pickle.load(file)\n",
    "            except:\n",
    "                break\n",
    "        \n",
    "        \n",
    "        file.close()\n",
    "        \n",
    "        \n",
    "        \n",
    "p1 = Student(1, 'Anubhav', 100)\n",
    "p2 = Student(2, 'Aditya', 90)\n",
    "p3=Student(3, 'rishi', 101)\n",
    "file = Student.loadFile('wb')\n",
    "Student.writeFile(p1, file)\n",
    "Student.writeFile(p2, file)\n",
    "Student.writeFile(p3, file)\n",
    "Student.readFile()\n",
    "Student.updateMarks(6)"
   ]
  },
  {
   "cell_type": "code",
   "execution_count": 4,
   "metadata": {},
   "outputs": [],
   "source": [
    "def readFile():\n",
    "        '''\n",
    "        Objective: To read student's data from the file\n",
    "        Input Parameters: self: implicit parameter\n",
    "        Return Values: None\n",
    "        '''\n",
    "        file = open(r\"C:\\Users\\sethi\\Desktop\\student.txt\", 'rb')\n",
    "        read = pickle.load(file)\n",
    "        while(read):\n",
    "            try:\n",
    "                print(read)\n",
    "                read = pickle.load(file)\n",
    "            except:\n",
    "                break\n",
    "        file.close()"
   ]
  },
  {
   "cell_type": "code",
   "execution_count": 5,
   "metadata": {},
   "outputs": [
    {
     "name": "stdout",
     "output_type": "stream",
     "text": [
      "[1, 'Anubhav', 106]\n",
      "[2, 'Aditya', 96]\n",
      "[3, 'rishi', 107]\n"
     ]
    }
   ],
   "source": [
    "readFile()"
   ]
  },
  {
   "cell_type": "code",
   "execution_count": null,
   "metadata": {},
   "outputs": [],
   "source": []
  }
 ],
 "metadata": {
  "kernelspec": {
   "display_name": "Python 3",
   "language": "python",
   "name": "python3"
  },
  "language_info": {
   "codemirror_mode": {
    "name": "ipython",
    "version": 3
   },
   "file_extension": ".py",
   "mimetype": "text/x-python",
   "name": "python",
   "nbconvert_exporter": "python",
   "pygments_lexer": "ipython3",
   "version": "3.7.4"
  }
 },
 "nbformat": 4,
 "nbformat_minor": 2
}
